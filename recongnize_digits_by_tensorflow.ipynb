{
 "cells": [
  {
   "cell_type": "code",
   "execution_count": 1,
   "metadata": {},
   "outputs": [],
   "source": [
    "import numpy as np\n",
    "import pandas as pd\n",
    "import matplotlib.pyplot as plt\n",
    "from scipy.io import loadmat\n",
    "%matplotlib inline"
   ]
  },
  {
   "cell_type": "code",
   "execution_count": 8,
   "metadata": {},
   "outputs": [
    {
     "name": "stdout",
     "output_type": "stream",
     "text": [
      "Extracting MNIST_data\\train-images-idx3-ubyte.gz\n",
      "Extracting MNIST_data\\train-labels-idx1-ubyte.gz\n",
      "Extracting MNIST_data\\t10k-images-idx3-ubyte.gz\n",
      "Extracting MNIST_data\\t10k-labels-idx1-ubyte.gz\n"
     ]
    }
   ],
   "source": [
    "#       from sklearn import datasets    # if data is imported from sklearn\n",
    "from tensorflow.examples.tutorials.mnist import input_data\n",
    "mnist=input_data.read_data_sets(\"MNIST_data\",one_hot=True)"
   ]
  },
  {
   "cell_type": "code",
   "execution_count": 9,
   "metadata": {},
   "outputs": [],
   "source": [
    "# mnist=datasets.load_digits()  # if you are importing data from sklearn\n"
   ]
  },
  {
   "cell_type": "code",
   "execution_count": 10,
   "metadata": {},
   "outputs": [
    {
     "name": "stdout",
     "output_type": "stream",
     "text": [
      "Datasets(train=<tensorflow.contrib.learn.python.learn.datasets.mnist.DataSet object at 0x00000195B8411E80>, validation=<tensorflow.contrib.learn.python.learn.datasets.mnist.DataSet object at 0x00000195B8411EB8>, test=<tensorflow.contrib.learn.python.learn.datasets.mnist.DataSet object at 0x00000195B8411E10>)\n"
     ]
    }
   ],
   "source": [
    "print(mnist)"
   ]
  },
  {
   "cell_type": "code",
   "execution_count": null,
   "metadata": {},
   "outputs": [],
   "source": [
    "print(mnist.DESCR)  # do this is done from sklearn"
   ]
  },
  {
   "cell_type": "markdown",
   "metadata": {},
   "source": [
    "mnist.data"
   ]
  },
  {
   "cell_type": "code",
   "execution_count": 12,
   "metadata": {},
   "outputs": [],
   "source": [
    "import random as ran\n"
   ]
  },
  {
   "cell_type": "code",
   "execution_count": null,
   "metadata": {},
   "outputs": [],
   "source": [
    "\n",
    "# Below cells are done by sklearn\n"
   ]
  },
  {
   "cell_type": "code",
   "execution_count": null,
   "metadata": {},
   "outputs": [],
   "source": []
  },
  {
   "cell_type": "code",
   "execution_count": null,
   "metadata": {},
   "outputs": [],
   "source": []
  },
  {
   "cell_type": "code",
   "execution_count": 5,
   "metadata": {},
   "outputs": [
    {
     "data": {
      "text/plain": [
       "array([[ 0.,  0.,  5., ...,  0.,  0.,  0.],\n",
       "       [ 0.,  0.,  0., ..., 10.,  0.,  0.],\n",
       "       [ 0.,  0.,  0., ..., 16.,  9.,  0.],\n",
       "       ...,\n",
       "       [ 0.,  0.,  1., ...,  6.,  0.,  0.],\n",
       "       [ 0.,  0.,  2., ..., 12.,  0.,  0.],\n",
       "       [ 0.,  0., 10., ..., 12.,  1.,  0.]])"
      ]
     },
     "execution_count": 5,
     "metadata": {},
     "output_type": "execute_result"
    }
   ],
   "source": [
    "# mnist.data"
   ]
  },
  {
   "cell_type": "code",
   "execution_count": 6,
   "metadata": {},
   "outputs": [
    {
     "data": {
      "text/plain": [
       "array([0, 1, 2, ..., 8, 9, 8])"
      ]
     },
     "execution_count": 6,
     "metadata": {},
     "output_type": "execute_result"
    }
   ],
   "source": [
    "# mnist.target   # y-output result"
   ]
  },
  {
   "cell_type": "code",
   "execution_count": 7,
   "metadata": {},
   "outputs": [
    {
     "data": {
      "text/plain": [
       "array([0, 1, 2, 3, 4, 5, 6, 7, 8, 9])"
      ]
     },
     "execution_count": 7,
     "metadata": {},
     "output_type": "execute_result"
    }
   ],
   "source": [
    "# mnist.target_names   # name of the target"
   ]
  },
  {
   "cell_type": "code",
   "execution_count": 8,
   "metadata": {},
   "outputs": [],
   "source": [
    "# train and test\n",
    "#X=mnist.data\n",
    "#y=mnist.target"
   ]
  },
  {
   "cell_type": "code",
   "execution_count": 9,
   "metadata": {},
   "outputs": [
    {
     "data": {
      "text/plain": [
       "array([[ 0.,  0.,  5., ...,  0.,  0.,  0.],\n",
       "       [ 0.,  0.,  0., ..., 10.,  0.,  0.],\n",
       "       [ 0.,  0.,  0., ..., 16.,  9.,  0.],\n",
       "       ...,\n",
       "       [ 0.,  0.,  1., ...,  6.,  0.,  0.],\n",
       "       [ 0.,  0.,  2., ..., 12.,  0.,  0.],\n",
       "       [ 0.,  0., 10., ..., 12.,  1.,  0.]])"
      ]
     },
     "execution_count": 9,
     "metadata": {},
     "output_type": "execute_result"
    }
   ],
   "source": [
    "#X   # 2D"
   ]
  },
  {
   "cell_type": "code",
   "execution_count": 10,
   "metadata": {},
   "outputs": [
    {
     "data": {
      "text/plain": [
       "array([0, 1, 2, ..., 8, 9, 8])"
      ]
     },
     "execution_count": 10,
     "metadata": {},
     "output_type": "execute_result"
    }
   ],
   "source": [
    "#y   # 1D"
   ]
  },
  {
   "cell_type": "code",
   "execution_count": 11,
   "metadata": {},
   "outputs": [],
   "source": [
    "# since y is showing the 1D\n",
    "#y=np.array([(mnist.target)])"
   ]
  },
  {
   "cell_type": "code",
   "execution_count": 12,
   "metadata": {},
   "outputs": [
    {
     "data": {
      "text/plain": [
       "array([[0, 1, 2, ..., 8, 9, 8]])"
      ]
     },
     "execution_count": 12,
     "metadata": {},
     "output_type": "execute_result"
    }
   ],
   "source": [
    "#y"
   ]
  },
  {
   "cell_type": "code",
   "execution_count": 13,
   "metadata": {},
   "outputs": [
    {
     "data": {
      "text/plain": [
       "(1797, 64)"
      ]
     },
     "execution_count": 13,
     "metadata": {},
     "output_type": "execute_result"
    }
   ],
   "source": [
    "#X.shape  # gives 1797 rows and 64 columns"
   ]
  },
  {
   "cell_type": "code",
   "execution_count": 14,
   "metadata": {},
   "outputs": [
    {
     "data": {
      "text/plain": [
       "(1, 1797)"
      ]
     },
     "execution_count": 14,
     "metadata": {},
     "output_type": "execute_result"
    }
   ],
   "source": [
    "#y.shape  # 1 row and 1797 columns"
   ]
  },
  {
   "cell_type": "code",
   "execution_count": 15,
   "metadata": {},
   "outputs": [
    {
     "data": {
      "text/plain": [
       "(1797, 10)"
      ]
     },
     "execution_count": 15,
     "metadata": {},
     "output_type": "execute_result"
    }
   ],
   "source": [
    "#from sklearn.preprocessing import OneHotEncoder\n",
    "#encoder=OneHotEncoder(sparse=False) # sparse=thinly dispersed or scattered.\n",
    "#y_onehot=encoder.fit_transform(y.T)   # T is transpose\n",
    "#y_onehot.shape"
   ]
  },
  {
   "cell_type": "code",
   "execution_count": 16,
   "metadata": {},
   "outputs": [
    {
     "data": {
      "text/plain": [
       "array([1., 0., 0., 0., 0., 0., 0., 0., 0., 0.])"
      ]
     },
     "execution_count": 16,
     "metadata": {},
     "output_type": "execute_result"
    }
   ],
   "source": [
    "\n",
    "#y_onehot[0,:]"
   ]
  },
  {
   "cell_type": "code",
   "execution_count": 17,
   "metadata": {},
   "outputs": [
    {
     "data": {
      "text/plain": [
       "array([0, 1, 2, ..., 8, 9, 8])"
      ]
     },
     "execution_count": 17,
     "metadata": {},
     "output_type": "execute_result"
    }
   ],
   "source": [
    "#y[0]"
   ]
  },
  {
   "cell_type": "code",
   "execution_count": 18,
   "metadata": {},
   "outputs": [
    {
     "data": {
      "text/plain": [
       "(array([0, 1, 2, ..., 8, 9, 8]),\n",
       " array([1., 0., 0., 0., 0., 0., 0., 0., 0., 0.]))"
      ]
     },
     "execution_count": 18,
     "metadata": {},
     "output_type": "execute_result"
    }
   ],
   "source": [
    "# The right way to do is \n",
    "#y[0],y_onehot[0,:]"
   ]
  },
  {
   "cell_type": "code",
   "execution_count": 19,
   "metadata": {},
   "outputs": [],
   "source": [
    "# Sigmoid function\n",
    "#def sigmoid(z):\n",
    "#    return 1./(1+np.exp(-z))"
   ]
  },
  {
   "cell_type": "code",
   "execution_count": 14,
   "metadata": {},
   "outputs": [],
   "source": [
    "# forward propagation:\n",
    "#def forward_propagate(X,theta1,theta2): # theta  are weights  i.e y=wx+b\n",
    "#    m=X.shape[0]\n",
    "    \n",
    "#    a1=np.insert(X,0,values=np.ones(m),axis=1)\n",
    "    #np.insert(arr, obj, values, axis=None)\n",
    "     \n"
   ]
  },
  {
   "cell_type": "code",
   "execution_count": 15,
   "metadata": {},
   "outputs": [],
   "source": [
    "# Here now i will do from the tensorflow:\n",
    "import random as ran"
   ]
  },
  {
   "cell_type": "code",
   "execution_count": 16,
   "metadata": {},
   "outputs": [],
   "source": [
    "# Define the function : Train size\n",
    "def TRAIN_SIZE(num):\n",
    "    print(\"Total training images in Dataset= \" + str(mnist.train.images.shape))\n",
    "    print(\"--------------------------------------------------------\")\n",
    "    x_train=mnist.train.images[:num,:]\n",
    "    print(\" x_train Examples Loaded =\" + str(x_train.shape))\n",
    "    y_train=mnist.train.labels[:num,:]\n",
    "    print(\"y_train Examples Loaded =\" + str(y_train.shape))\n",
    "    return x_train,y_train"
   ]
  },
  {
   "cell_type": "code",
   "execution_count": 17,
   "metadata": {},
   "outputs": [],
   "source": [
    "# Define the function : Test size\n",
    "def TEST_SIZE(num):\n",
    "    print(\"Total test images in Dataset= \" + str(mnist.test.images.shape))\n",
    "    print(\"--------------------------------------------------------\")\n",
    "    x_test=mnist.test.images[:num,:]\n",
    "    print(\" x_test Examples Loaded =\" + str(x_test.shape))\n",
    "    y_test=mnist.test.labels[:num,:]\n",
    "    print(\"y_test Examples Loaded =\" + str(y_test.shape))\n",
    "    return x_test,y_test"
   ]
  },
  {
   "cell_type": "code",
   "execution_count": 18,
   "metadata": {},
   "outputs": [],
   "source": [
    "# Displaying the digit\n",
    "def display_digit(num):\n",
    "    print(y_train[num])\n",
    "    label=y_train[num].argmax(axis=0)\n",
    "    image=x_train[num].reshape([28,28])\n",
    "    plt.title(\"Example : %d  Label: %d\" % (num,label))\n",
    "    plt.imshow(image,cmap=plt.get_cmap('gray_r'))\n",
    "    plt.show()"
   ]
  },
  {
   "cell_type": "code",
   "execution_count": null,
   "metadata": {},
   "outputs": [],
   "source": [
    "# Just understandig the argmax\n",
    "#>>> a = np.arange(6).reshape(2,3)\n",
    "#>>> a\n",
    "#array([[0, 1, 2],[3, 4, 5]])\n",
    "       \n",
    "#>>> np.argmax(a)\n",
    "#5\n",
    "#>>> np.argmax(a, axis=0)\n",
    "#array([1, 1, 1])\n",
    "#>>> np.argmax(a, axis=1)\n",
    "#array([2, 2])"
   ]
  },
  {
   "cell_type": "code",
   "execution_count": 19,
   "metadata": {},
   "outputs": [
    {
     "name": "stdout",
     "output_type": "stream",
     "text": [
      "Total training images in Dataset= (55000, 784)\n",
      "--------------------------------------------------------\n",
      " x_train Examples Loaded =(55000, 784)\n",
      "y_train Examples Loaded =(55000, 10)\n"
     ]
    }
   ],
   "source": [
    "x_train,y_train=TRAIN_SIZE(55000)"
   ]
  },
  {
   "cell_type": "code",
   "execution_count": 20,
   "metadata": {},
   "outputs": [
    {
     "name": "stdout",
     "output_type": "stream",
     "text": [
      "[0. 0. 0. 0. 0. 0. 1. 0. 0. 0.]\n"
     ]
    },
    {
     "data": {
      "image/png": "[encoded data removed]",
      "text/plain": [
       "<Figure size 432x288 with 1 Axes>"
      ]
     },
     "metadata": {},
     "output_type": "display_data"
    }
   ],
   "source": [
    "display_digit(ran.randint(0,x_train.shape[0]))"
   ]
  },
  {
   "cell_type": "code",
   "execution_count": 21,
   "metadata": {},
   "outputs": [],
   "source": [
    "# flattened display\n",
    "def display_mult_flat(start,stop):\n",
    "    images=x_train[start].reshape([1,784])\n",
    "    #loop\n",
    "    for i in range(start+1,stop):\n",
    "        images=np.concatenate((images,x_train[i].reshape([1,784])))\n",
    "    plt.imshow(images,cmap=plt.get_cmap('gray_r'))\n",
    "    plt.show()"
   ]
  },
  {
   "cell_type": "code",
   "execution_count": 22,
   "metadata": {},
   "outputs": [
    {
     "data": {
      "image/png": "[encoded data removed]",
      "text/plain": [
       "<Figure size 432x288 with 1 Axes>"
      ]
     },
     "metadata": {},
     "output_type": "display_data"
    }
   ],
   "source": [
    "display_mult_flat(0,400)"
   ]
  },
  {
   "cell_type": "markdown",
   "metadata": {},
   "source": [
    "## By tesorflow concept\n",
    "\n",
    "The code creates a session instance, `sess`, using `tf.Session`. The `sess.run()` function then evaluates the tensor and returns the results.\n",
    "\n",
    "\n",
    "### tf.placeholder()\n",
    "\n",
    "`tf.placeholder()` returns a tensor that gets its value from data passed to the `tf.session.run()` function, allowing you to set the input right before the session runs.\n"
   ]
  },
  {
   "cell_type": "code",
   "execution_count": 23,
   "metadata": {},
   "outputs": [],
   "source": [
    "import tensorflow as tf\n",
    "sess=tf.Session()"
   ]
  },
  {
   "cell_type": "code",
   "execution_count": 31,
   "metadata": {},
   "outputs": [],
   "source": [
    "x=tf.placeholder(tf.float32,shape=[None,784])\n",
    "y=tf.placeholder(tf.float32,shape=[None,10])"
   ]
  },
  {
   "cell_type": "code",
   "execution_count": 32,
   "metadata": {},
   "outputs": [],
   "source": [
    "W= tf.Variable(tf.zeros([784,10]))\n",
    "b=tf.Variable(tf.zeros([10]))"
   ]
  },
  {
   "cell_type": "markdown",
   "metadata": {},
   "source": [
    "The `tf.Variable` class creates a tensor with an initial value that can be modified, much like a normal Python variable. This tensor stores its state in the session, so you must initialize the state of the tensor manually. You'll use the `tf.global_variables_initializer()` function to initialize the state of all the Variable tensors:"
   ]
  },
  {
   "cell_type": "code",
   "execution_count": 33,
   "metadata": {},
   "outputs": [
    {
     "name": "stdout",
     "output_type": "stream",
     "text": [
      "Tensor(\"Softmax_1:0\", shape=(?, 10), dtype=float32)\n"
     ]
    }
   ],
   "source": [
    "# Non-linearities   f(x)=softmax=is the nonlinearities of linear function(wx+b)\n",
    "y_=tf.nn.softmax(tf.matmul(x,W)+b)\n",
    "print(y_)"
   ]
  },
  {
   "cell_type": "markdown",
   "metadata": {},
   "source": [
    "In the last section, a tensor was passed into a session and it returned the result. What if we want to use a non-constant? This is where `tf.placeholder()` and `feed_dict` come into place. In this section, we'll go over the basics of feeding data into TensorFlow."
   ]
  },
  {
   "cell_type": "code",
   "execution_count": 34,
   "metadata": {},
   "outputs": [
    {
     "name": "stdout",
     "output_type": "stream",
     "text": [
      "Total training images in Dataset= (55000, 784)\n",
      "--------------------------------------------------------\n",
      " x_train Examples Loaded =(3, 784)\n",
      "y_train Examples Loaded =(3, 10)\n",
      "[[0.1 0.1 0.1 0.1 0.1 0.1 0.1 0.1 0.1 0.1]\n",
      " [0.1 0.1 0.1 0.1 0.1 0.1 0.1 0.1 0.1 0.1]\n",
      " [0.1 0.1 0.1 0.1 0.1 0.1 0.1 0.1 0.1 0.1]]\n"
     ]
    }
   ],
   "source": [
    "x_train,y_train=TRAIN_SIZE(3)\n",
    "# use the initialize of the states of all the variable tensors\n",
    "sess.run(tf.global_variables_initializer())\n",
    "print(sess.run(y_,feed_dict={x:x_train}))"
   ]
  },
  {
   "cell_type": "code",
   "execution_count": 35,
   "metadata": {},
   "outputs": [],
   "source": [
    "cross_entropy=tf.reduce_mean(-tf.reduce_sum(y*tf.log(y_),reduction_indices=[1]))\n",
    "#Computes the mean of elements across dimensions of a tensor.\n",
    "#reduction_indices: The old (deprecated) name for axis."
   ]
  },
  {
   "cell_type": "code",
   "execution_count": 36,
   "metadata": {},
   "outputs": [
    {
     "name": "stdout",
     "output_type": "stream",
     "text": [
      "Total training images in Dataset= (55000, 784)\n",
      "--------------------------------------------------------\n",
      " x_train Examples Loaded =(5500, 784)\n",
      "y_train Examples Loaded =(5500, 10)\n",
      "Total test images in Dataset= (10000, 784)\n",
      "--------------------------------------------------------\n",
      " x_test Examples Loaded =(10000, 784)\n",
      "y_test Examples Loaded =(10000, 10)\n"
     ]
    }
   ],
   "source": [
    "# Let take example of train size 5500\n",
    "x_train,y_train=TRAIN_SIZE(5500)\n",
    "x_test,y_test=TEST_SIZE(10000)\n",
    "learning_rate=0.1\n",
    "train_steps=2500"
   ]
  },
  {
   "cell_type": "code",
   "execution_count": 37,
   "metadata": {},
   "outputs": [],
   "source": [
    "# initilaization\n",
    "init=tf.global_variables_initializer()\n",
    "sess.run(init)"
   ]
  },
  {
   "cell_type": "code",
   "execution_count": 38,
   "metadata": {},
   "outputs": [],
   "source": [
    "training=tf.train.GradientDescentOptimizer(learning_rate).minimize(cross_entropy)\n",
    "correct_prediction=tf.equal(tf.argmax(y_,1),tf.argmax(y,1))\n",
    "accuracy=tf.reduce_mean(tf.cast(correct_prediction,tf.float32))\n",
    "# tf.equal(x, y, name=None)   Returns the truth value of (x == y) element-wise.\n",
    "\n",
    "# tf.cast(x, dtype, name=None)   Casts a tensor to a new type."
   ]
  },
  {
   "cell_type": "code",
   "execution_count": 45,
   "metadata": {},
   "outputs": [
    {
     "name": "stdout",
     "output_type": "stream",
     "text": [
      "Training step : 0  Accuracy= 0.9067   Loss =0.23924372\n",
      "Training step : 100  Accuracy= 0.9068   Loss =0.23677668\n",
      "Training step : 200  Accuracy= 0.9065   Loss =0.23441288\n",
      "Training step : 300  Accuracy= 0.906   Loss =0.23214433\n",
      "Training step : 400  Accuracy= 0.9058   Loss =0.22996378\n",
      "Training step : 500  Accuracy= 0.9059   Loss =0.22786477\n",
      "Training step : 600  Accuracy= 0.9056   Loss =0.22584155\n",
      "Training step : 700  Accuracy= 0.9055   Loss =0.22388892\n",
      "Training step : 800  Accuracy= 0.9052   Loss =0.22200227\n",
      "Training step : 900  Accuracy= 0.9052   Loss =0.22017725\n",
      "Training step : 1000  Accuracy= 0.9056   Loss =0.21841015\n",
      "Training step : 1100  Accuracy= 0.9059   Loss =0.21669734\n",
      "Training step : 1200  Accuracy= 0.9059   Loss =0.21503574\n",
      "Training step : 1300  Accuracy= 0.906   Loss =0.21342227\n",
      "Training step : 1400  Accuracy= 0.9062   Loss =0.2118544\n",
      "Training step : 1500  Accuracy= 0.9062   Loss =0.21032956\n",
      "Training step : 1600  Accuracy= 0.906   Loss =0.2088455\n",
      "Training step : 1700  Accuracy= 0.9062   Loss =0.20740019\n",
      "Training step : 1800  Accuracy= 0.9061   Loss =0.20599158\n",
      "Training step : 1900  Accuracy= 0.9063   Loss =0.20461796\n",
      "Training step : 2000  Accuracy= 0.9064   Loss =0.20327754\n",
      "Training step : 2100  Accuracy= 0.9061   Loss =0.20196882\n",
      "Training step : 2200  Accuracy= 0.9061   Loss =0.20069031\n",
      "Training step : 2300  Accuracy= 0.9059   Loss =0.1994407\n",
      "Training step : 2400  Accuracy= 0.9058   Loss =0.19821878\n",
      "Training step : 2500  Accuracy= 0.9056   Loss =0.19702324\n"
     ]
    }
   ],
   "source": [
    "# let see the training step, accuracy, and loss\n",
    "for i in range(train_steps +1):\n",
    "    sess.run(training,feed_dict={x:x_train,y:y_train})  \n",
    "    if i%100==0:\n",
    "        print(\"Training step : \" + str(i)+ \"  Accuracy= \" +\n",
    "             str(sess.run(accuracy,feed_dict={x:x_test,y:y_test})) + \"   Loss =\" + \n",
    "             str(sess.run(cross_entropy,feed_dict={x:x_train,y:y_train})))"
   ]
  },
  {
   "cell_type": "code",
   "execution_count": 47,
   "metadata": {},
   "outputs": [
    {
     "data": {
      "image/png": "[encoded data removed]",
      "text/plain": [
       "<Figure size 432x288 with 10 Axes>"
      ]
     },
     "metadata": {},
     "output_type": "display_data"
    }
   ],
   "source": [
    "# plot\n",
    "for i in range(10):\n",
    "    plt.subplot(2,5,i+1)\n",
    "    weight= sess.run(W)[:,i]\n",
    "    plt.title(i)\n",
    "    plt.imshow(weight.reshape([28,28]),cmap=plt.get_cmap('seismic'))\n",
    "    frame1=plt.gca()"
   ]
  },
  {
   "cell_type": "code",
   "execution_count": 48,
   "metadata": {},
   "outputs": [
    {
     "data": {
      "image/png": "[encoded data removed]",
      "text/plain": [
       "<Figure size 432x288 with 10 Axes>"
      ]
     },
     "metadata": {},
     "output_type": "display_data"
    }
   ],
   "source": [
    "# plot\n",
    "for i in range(10):\n",
    "    plt.subplot(2,5,i+1)\n",
    "    weight= sess.run(W)[:,i]\n",
    "    plt.title(i)\n",
    "    plt.imshow(weight.reshape([28,28]),cmap=plt.get_cmap('seismic'))\n",
    "    frame1=plt.gca()\n",
    "    frame1.axes.get_xaxis().set_visible(False)"
   ]
  },
  {
   "cell_type": "code",
   "execution_count": 49,
   "metadata": {},
   "outputs": [
    {
     "data": {
      "image/png": "[encoded data removed]",
      "text/plain": [
       "<Figure size 432x288 with 10 Axes>"
      ]
     },
     "metadata": {},
     "output_type": "display_data"
    }
   ],
   "source": [
    "# plot\n",
    "for i in range(10):\n",
    "    plt.subplot(2,5,i+1)\n",
    "    weight= sess.run(W)[:,i]\n",
    "    plt.title(i)\n",
    "    plt.imshow(weight.reshape([28,28]),cmap=plt.get_cmap('seismic'))\n",
    "    frame1=plt.gca()\n",
    "    frame1.axes.get_xaxis().set_visible(False)\n",
    "    frame1.axes.get_yaxis().set_visible(False)"
   ]
  },
  {
   "cell_type": "code",
   "execution_count": 53,
   "metadata": {},
   "outputs": [],
   "source": [
    "#\n",
    "def display_compare(num):\n",
    "    # this will load one training example\n",
    "    x_train=mnist.train.images[num,:].reshape(1,784)\n",
    "    y_train=mnist.train.labels[num,:]\n",
    "    # This gets our label as a integer\n",
    "    label=y_train.argmax()\n",
    "    # this gets our prediction as a integer\n",
    "    prediction=sess.run(y_,feed_dict={x: x_train}).argmax()\n",
    "    plt.title(\"Prediction : %d  Label: %d \" % (prediction,label))\n",
    "    plt.imshow(x_train.reshape([28,28]), cmap=plt.get_cmap('gray_r'))\n",
    "    plt.show()"
   ]
  },
  {
   "cell_type": "code",
   "execution_count": 54,
   "metadata": {},
   "outputs": [
    {
     "data": {
      "image/png": "[encoded data removed]",
      "text/plain": [
       "<Figure size 432x288 with 1 Axes>"
      ]
     },
     "metadata": {},
     "output_type": "display_data"
    }
   ],
   "source": [
    "display_compare(ran.randint(0,55000))"
   ]
  },
  {
   "cell_type": "code",
   "execution_count": 55,
   "metadata": {},
   "outputs": [
    {
     "data": {
      "image/png": "[encoded data removed]",
      "text/plain": [
       "<Figure size 432x288 with 1 Axes>"
      ]
     },
     "metadata": {},
     "output_type": "display_data"
    }
   ],
   "source": [
    "display_compare(ran.randint(0,55000))\n"
   ]
  },
  {
   "cell_type": "code",
   "execution_count": 56,
   "metadata": {},
   "outputs": [
    {
     "data": {
      "image/png": "[encoded data removed]",
      "text/plain": [
       "<Figure size 432x288 with 1 Axes>"
      ]
     },
     "metadata": {},
     "output_type": "display_data"
    }
   ],
   "source": [
    "display_compare(ran.randint(1,55000))"
   ]
  },
  {
   "cell_type": "code",
   "execution_count": null,
   "metadata": {},
   "outputs": [],
   "source": []
  }
 ],
 "metadata": {
  "kernelspec": {
   "display_name": "Python 3",
   "language": "python",
   "name": "python3"
  },
  "language_info": {
   "codemirror_mode": {
    "name": "ipython",
    "version": 3
   },
   "file_extension": ".py",
   "mimetype": "text/x-python",
   "name": "python",
   "nbconvert_exporter": "python",
   "pygments_lexer": "ipython3",
   "version": "3.6.5"
  }
 },
 "nbformat": 4,
 "nbformat_minor": 2
}
